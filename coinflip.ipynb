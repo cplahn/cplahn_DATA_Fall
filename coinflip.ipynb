{
 "cells": [
  {
   "cell_type": "code",
   "execution_count": 1,
   "id": "264ef519",
   "metadata": {},
   "outputs": [],
   "source": [
    "from datascience import *\n",
    "import numpy as np\n",
    "\n",
    "%matplotlib inline\n",
    "import matplotlib.pyplot as plots\n",
    "plots.style.use('fivethirtyeight')\n",
    "import warnings\n",
    "#warnings.simplefilter(action='ignore', category=np.VisibleDeprecationWarning)"
   ]
  },
  {
   "cell_type": "markdown",
   "id": "275d8df3",
   "metadata": {},
   "source": [
    "# Generating a Histogram of Coin Flips\n",
    "\n",
    "I claim to have a fair coin. I flipped it 100 times and got a total of 85 heads. Should you doubt that the coin is fair? \\\n",
    "\n",
    "Null Hypothesis: The coin is fair and pure random chance is sufficient to explain the observation (85 heads out of 100 flips).\n",
    "\n",
    "Strategy for exploring the null hypothesis\n",
    "1. Write a function that flips a *fair* coin 100 times and returns the total number of heads. Call this sequence of 100 flips a single experiment.\n",
    "2. Use a for loop to run the experiment many times and gather up all the outcomes into an array.\n",
    "3. Create a single column table containing the outcomes in the array.\n",
    "4. Visualize the outcomes with a histogram."
   ]
  },
  {
   "cell_type": "markdown",
   "id": "d9c44085",
   "metadata": {},
   "source": [
    "# Step 1: Create Function for the Experiment"
   ]
  },
  {
   "cell_type": "code",
   "execution_count": 25,
   "id": "e6d5e8c2",
   "metadata": {},
   "outputs": [],
   "source": [
    "def coin_flip_100():\n",
    "    num_heads=0\n",
    "    for i in np.arange(100):\n",
    "        coin = make_array('heads','tails')\n",
    "        flip=np.random.choice(coin)\n",
    "        if flip=='heads':\n",
    "            num_heads=num_heads+1\n",
    "    return num_heads"
   ]
  },
  {
   "cell_type": "code",
   "execution_count": 28,
   "id": "07d912d2",
   "metadata": {},
   "outputs": [
    {
     "data": {
      "text/plain": [
       "57"
      ]
     },
     "execution_count": 28,
     "metadata": {},
     "output_type": "execute_result"
    }
   ],
   "source": [
    "coin_flip_100()"
   ]
  },
  {
   "cell_type": "markdown",
   "id": "fabfb3cb",
   "metadata": {},
   "source": [
    "# Step 2: Iterate the experiment many times"
   ]
  },
  {
   "cell_type": "code",
   "execution_count": 33,
   "id": "27f57ddf",
   "metadata": {},
   "outputs": [
    {
     "data": {
      "text/plain": [
       "array([ 56.,  44.,  49.,  49.,  49.,  47.,  53.,  50.,  45.,  49.,  46.,\n",
       "        43.,  50.,  49.,  47.,  53.,  48.,  54.,  48.,  46.,  43.,  48.,\n",
       "        62.,  50.,  48.,  45.,  52.,  54.,  51.,  53.,  42.,  52.,  46.,\n",
       "        49.,  48.,  53.,  48.,  49.,  44.,  57.,  55.,  48.,  49.,  50.,\n",
       "        54.,  47.,  49.,  42.,  50.,  48.,  50.,  49.,  47.,  50.,  51.,\n",
       "        53.,  53.,  46.,  53.,  45.,  37.,  43.,  56.,  50.,  52.,  53.,\n",
       "        52.,  51.,  56.,  55.,  48.,  43.,  47.,  44.,  52.,  56.,  47.,\n",
       "        44.,  56.,  43.,  49.,  55.,  54.,  55.,  55.,  60.,  61.,  59.,\n",
       "        55.,  47.,  47.,  53.,  47.,  54.,  45.,  50.,  52.,  43.,  48.,\n",
       "        60.,  51.,  52.,  50.,  43.,  53.,  53.,  53.,  48.,  48.,  54.,\n",
       "        51.,  54.,  42.,  54.,  56.,  44.,  47.,  46.,  46.,  54.,  49.,\n",
       "        50.,  54.,  59.,  49.,  49.,  49.,  50.,  42.,  49.,  48.,  48.,\n",
       "        54.,  41.,  50.,  54.,  49.,  44.,  51.,  53.,  43.,  48.,  49.,\n",
       "        46.,  44.,  57.,  43.,  57.,  55.,  51.,  55.,  52.,  54.,  51.,\n",
       "        43.,  53.,  51.,  55.,  50.,  46.,  47.,  51.,  45.,  53.,  49.,\n",
       "        54.,  48.,  43.,  50.,  50.,  54.,  58.,  52.,  48.,  43.,  48.,\n",
       "        50.,  56.,  40.,  45.,  54.,  52.,  37.,  51.,  48.,  57.,  48.,\n",
       "        47.,  36.,  54.,  46.,  41.,  46.,  51.,  58.,  48.,  52.,  53.,\n",
       "        48.,  50.,  40.,  43.,  42.,  40.,  43.,  58.,  54.,  53.,  51.,\n",
       "        53.,  43.,  56.,  44.,  50.,  43.,  65.,  62.,  50.,  50.,  53.,\n",
       "        56.,  47.,  57.,  57.,  53.,  53.,  57.,  41.,  38.,  51.,  48.,\n",
       "        59.,  56.,  51.,  59.,  54.,  45.,  49.,  63.,  42.,  49.,  51.,\n",
       "        40.,  44.,  56.,  48.,  47.,  52.,  48.,  51.,  48.,  54.,  56.,\n",
       "        49.,  51.,  49.,  49.,  47.,  49.,  44.,  56.,  47.,  51.,  48.,\n",
       "        49.,  43.,  43.,  46.,  43.,  48.,  49.,  51.,  44.,  40.,  48.,\n",
       "        54.,  57.,  49.,  55.,  57.,  51.,  55.,  45.,  42.,  47.,  42.,\n",
       "        40.,  45.,  39.,  37.,  48.,  52.,  55.,  50.,  50.,  47.,  49.,\n",
       "        61.,  57.,  64.,  43.,  61.,  45.,  53.,  56.,  43.,  47.,  43.,\n",
       "        55.,  50.,  53.,  57.,  55.,  45.,  50.,  39.,  54.,  44.,  54.,\n",
       "        39.,  51.,  48.,  63.,  52.,  48.,  47.,  52.,  52.,  44.,  47.,\n",
       "        48.,  46.,  47.,  46.,  40.,  63.,  50.,  48.,  54.,  57.,  52.,\n",
       "        51.,  55.,  48.,  44.,  44.,  51.,  48.,  50.,  50.,  50.,  55.,\n",
       "        51.,  48.,  50.,  48.,  50.,  39.,  48.,  47.,  42.,  48.,  53.,\n",
       "        53.,  45.,  55.,  47.,  46.,  46.,  51.,  49.,  46.,  60.,  55.,\n",
       "        57.,  50.,  49.,  55.,  59.,  48.,  51.,  52.,  46.,  51.,  41.,\n",
       "        55.,  46.,  47.,  57.,  49.,  43.,  37.,  47.,  43.,  46.,  43.,\n",
       "        49.,  54.,  49.,  51.,  54.,  53.,  33.,  52.,  64.,  56.,  52.,\n",
       "        52.,  40.,  48.,  43.,  53.,  47.,  42.,  49.,  42.,  47.,  62.,\n",
       "        43.,  47.,  48.,  45.,  49.,  56.,  48.,  51.,  55.,  50.,  46.,\n",
       "        47.,  46.,  53.,  47.,  39.,  44.,  56.,  52.,  48.,  44.,  51.,\n",
       "        50.,  52.,  41.,  57.,  40.,  42.,  47.,  46.,  48.,  48.,  52.,\n",
       "        51.,  39.,  53.,  41.,  47.,  47.,  64.,  44.,  41.,  44.,  48.,\n",
       "        53.,  40.,  44.,  51.,  49.,  39.,  53.,  47.,  53.,  52.,  48.,\n",
       "        49.,  48.,  58.,  56.,  52.,  43.,  56.,  55.,  57.,  58.,  52.,\n",
       "        54.,  47.,  51.,  48.,  53.,  39.,  62.,  56.,  42.,  55.,  47.,\n",
       "        41.,  54.,  57.,  49.,  55.,  42.,  47.,  55.,  56.,  43.,  55.,\n",
       "        57.,  50.,  48.,  59.,  42.,  49.,  54.,  60.,  55.,  51.,  63.,\n",
       "        50.,  48.,  47.,  53.,  54.,  57.,  48.,  45.,  46.,  53.,  47.,\n",
       "        54.,  49.,  50.,  46.,  50.,  51.,  47.,  45.,  55.,  46.,  49.,\n",
       "        45.,  49.,  44.,  53.,  51.,  45.,  47.,  48.,  58.,  54.,  45.,\n",
       "        49.,  49.,  53.,  57.,  49.,  46.,  44.,  45.,  52.,  48.,  54.,\n",
       "        51.,  53.,  46.,  49.,  54.,  45.,  49.,  50.,  54.,  52.,  41.,\n",
       "        45.,  60.,  48.,  53.,  50.,  42.,  45.,  43.,  53.,  53.,  45.,\n",
       "        39.,  54.,  54.,  44.,  45.,  54.,  56.,  51.,  51.,  51.,  38.,\n",
       "        52.,  49.,  51.,  50.,  46.,  49.,  59.,  50.,  51.,  52.,  52.,\n",
       "        43.,  44.,  38.,  52.,  43.,  54.,  48.,  54.,  48.,  57.,  47.,\n",
       "        63.,  47.,  48.,  48.,  49.,  50.,  38.,  47.,  52.,  48.,  38.,\n",
       "        47.,  46.,  57.,  55.,  49.,  45.,  49.,  55.,  46.,  43.,  54.,\n",
       "        43.,  47.,  38.,  53.,  51.,  47.,  49.,  43.,  58.,  42.,  51.,\n",
       "        50.,  47.,  39.,  46.,  47.,  61.,  57.,  49.,  48.,  63.,  51.,\n",
       "        44.,  49.,  51.,  52.,  50.,  42.,  54.,  52.,  45.,  53.,  52.,\n",
       "        49.,  55.,  46.,  50.,  42.,  47.,  53.,  48.,  47.,  60.,  47.,\n",
       "        49.,  42.,  56.,  49.,  52.,  49.,  53.,  44.,  49.,  50.,  49.,\n",
       "        50.,  47.,  51.,  55.,  57.,  42.,  51.,  53.,  52.,  47.,  48.,\n",
       "        57.,  49.,  47.,  53.,  51.,  43.,  47.,  43.,  43.,  48.,  44.,\n",
       "        45.,  51.,  49.,  47.,  50.,  51.,  47.,  48.,  48.,  48.,  53.,\n",
       "        50.,  46.,  53.,  44.,  46.,  56.,  52.,  48.,  52.,  51.,  47.,\n",
       "        51.,  43.,  43.,  51.,  39.,  39.,  46.,  53.,  63.,  45.,  49.,\n",
       "        51.,  50.,  52.,  49.,  42.,  46.,  48.,  46.,  48.,  53.,  53.,\n",
       "        50.,  47.,  49.,  47.,  45.,  56.,  50.,  54.,  40.,  46.,  54.,\n",
       "        45.,  53.,  51.,  55.,  47.,  46.,  49.,  44.,  61.,  52.,  51.,\n",
       "        43.,  58.,  55.,  48.,  50.,  49.,  45.,  51.,  45.,  56.,  50.,\n",
       "        48.,  43.,  51.,  53.,  48.,  49.,  47.,  51.,  49.,  55.,  61.,\n",
       "        45.,  53.,  57.,  52.,  52.,  54.,  54.,  51.,  57.,  45.,  49.,\n",
       "        56.,  62.,  49.,  49.,  44.,  51.,  46.,  42.,  38.,  54.,  50.,\n",
       "        51.,  54.,  49.,  42.,  50.,  60.,  44.,  50.,  52.,  55.,  45.,\n",
       "        47.,  61.,  53.,  52.,  58.,  49.,  55.,  45.,  58.,  52.,  40.,\n",
       "        58.,  44.,  47.,  47.,  55.,  46.,  55.,  50.,  52.,  55.,  46.,\n",
       "        61.,  57.,  44.,  51.,  47.,  49.,  44.,  55.,  46.,  46.,  48.,\n",
       "        45.,  52.,  55.,  48.,  52.,  49.,  55.,  41.,  40.,  59.,  45.,\n",
       "        42.,  46.,  54.,  57.,  54.,  45.,  56.,  54.,  41.,  53.,  50.,\n",
       "        52.,  49.,  58.,  43.,  49.,  56.,  48.,  52.,  49.,  53.,  51.,\n",
       "        58.,  53.,  48.,  50.,  49.,  55.,  58.,  48.,  63.,  51.,  50.,\n",
       "        51.,  45.,  54.,  48.,  50.,  57.,  47.,  47.,  50.,  44.,  41.,\n",
       "        54.,  46.,  54.,  49.,  51.,  59.,  44.,  46.,  55.,  46.,  49.,\n",
       "        49.,  54.,  48.,  39.,  40.,  47.,  55.,  42.,  54.,  55.,  49.,\n",
       "        49.,  53.,  45.,  54.,  53.,  59.,  41.,  51.,  41.,  43.,  36.,\n",
       "        55.,  54.,  47.,  50.,  46.,  58.,  39.,  51.,  50.,  44.,  49.,\n",
       "        47.,  54.,  44.,  57.,  53.,  51.,  48.,  46.,  49.,  55.,  46.,\n",
       "        49.,  48.,  55.,  55.,  55.,  47.,  51.,  46.,  47.,  51.,  46.,\n",
       "        48.,  45.,  42.,  51.,  53.,  51.,  52.,  51.,  42.,  57.])"
      ]
     },
     "execution_count": 33,
     "metadata": {},
     "output_type": "execute_result"
    }
   ],
   "source": [
    "outcomes=make_array()\n",
    "for i in np.arange(1000):\n",
    "    experiment=coin_flip_100()\n",
    "    outcomes=np.append(outcomes,experiment)\n",
    "outcomes"
   ]
  },
  {
   "cell_type": "markdown",
   "id": "701728d8",
   "metadata": {},
   "source": [
    "# Step 3 and 4: Create a table and histogram"
   ]
  },
  {
   "cell_type": "code",
   "execution_count": 40,
   "id": "da39d938",
   "metadata": {},
   "outputs": [
    {
     "data": {
      "image/png": "[encoded data removed]",
      "text/plain": [
       "<Figure size 600x400 with 1 Axes>"
      ]
     },
     "metadata": {},
     "output_type": "display_data"
    }
   ],
   "source": [
    "# Create a blank table and use with_column to load in the array of data\n",
    "\n",
    "# Create a histogram from the table\n",
    "outcomes_table=Table().with_column('Number of Heads in 100 Flips',outcomes)\n",
    "outcomes_table.hist('Number of Heads in 100 Flips',bins=20)"
   ]
  },
  {
   "cell_type": "markdown",
   "id": "0002378f",
   "metadata": {},
   "source": []
  }
 ],
 "metadata": {
  "kernelspec": {
   "display_name": "Python 3",
   "language": "python",
   "name": "python3"
  },
  "language_info": {
   "codemirror_mode": {
    "name": "ipython",
    "version": 3
   },
   "file_extension": ".py",
   "mimetype": "text/x-python",
   "name": "python",
   "nbconvert_exporter": "python",
   "pygments_lexer": "ipython3",
   "version": "3.12.1"
  }
 },
 "nbformat": 4,
 "nbformat_minor": 5
}
